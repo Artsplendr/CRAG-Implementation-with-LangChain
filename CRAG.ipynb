{
  "cells": [
    {
      "cell_type": "markdown",
      "id": "dd7c4c87",
      "metadata": {
        "id": "dd7c4c87"
      },
      "source": [
        "# Corrective RAG (CRAG) Implementation with LangGraph"
      ]
    },
    {
      "cell_type": "markdown",
      "source": [
        "The concept of Corrective Retrieval-Augmented Generation (CRAG) was introduced in the research paper titled **“Corrective Retrieval Augmented Generation” by Shi-Qi Yan, Jia-Chen Gu, Yun Zhu, and Zhen-Hua Ling**. This paper was first published on January 29, 2024 and is avilable at the following [link.](https://arxiv.org/abs/2401.15884?utm_source=chatgpt.com)\n",
        "\n",
        "In their work, the authors address the issue of hallucinations in large language models (LLMs) and the challenges posed when retrieval-augmented generation (RAG) systems rely on irrelevant or incorrect documents. To enhance the robustness of generated outputs, they propose the Corrective Retrieval-Augmented Generation (CRAG) framework, which includes a lightweight **retrieval evaluator** to assess the quality of retrieved documents and determine appropriate corrective actions. Additionally, the framework incorporates **large-scale web searches** to supplement static data.\n",
        "\n",
        "The goal of this project is to reproduce CRAG implementation based on the blog \"Corrective RAG (CRAG) Implementation With LangGraph\" by Ryan Ong / Datacamp."
      ],
      "metadata": {
        "id": "jUXWbChTnY6z"
      },
      "id": "jUXWbChTnY6z"
    },
    {
      "cell_type": "markdown",
      "source": [
        "## References\n",
        "\n",
        "1. “Corrective Retrieval Augmented Generation” by Shi-Qi Yan, Jia-Chen Gu, Yun Zhu, and Zhen-Hua Ling, published on January 29, 2024 and available at the following [link.](https://arxiv.org/abs/2401.15884?utm_source=chatgpt.com)\n",
        "⭐\n",
        "\n",
        "2. \"Corrective RAG (CRAG) Implementation With LangGraph\" by Ryan Ong / Datacamp, available at this [link.](https://www.datacamp.com/tutorial/corrective-rag-crag)\n",
        "⭐\n"
      ],
      "metadata": {
        "id": "xyjLw1G3tnd_"
      },
      "id": "xyjLw1G3tnd_"
    },
    {
      "cell_type": "markdown",
      "id": "357c97c9",
      "metadata": {
        "id": "357c97c9"
      },
      "source": [
        "### Setup"
      ]
    },
    {
      "cell_type": "code",
      "source": [
        "# Mounting to Google Drive\n",
        "from google.colab import drive\n",
        "drive.mount('/content/drive')"
      ],
      "metadata": {
        "colab": {
          "base_uri": "https://localhost:8080/"
        },
        "id": "6NH8irGTCpUn",
        "outputId": "fe24d48d-5298-482d-9609-a84acf4db5db"
      },
      "id": "6NH8irGTCpUn",
      "execution_count": 1,
      "outputs": [
        {
          "output_type": "stream",
          "name": "stdout",
          "text": [
            "Mounted at /content/drive\n"
          ]
        }
      ]
    },
    {
      "cell_type": "code",
      "source": [
        "cd \"YOUR-PATH-HERE\""
      ],
      "metadata": {
        "id": "AN9UO1iif5WA"
      },
      "id": "AN9UO1iif5WA",
      "execution_count": null,
      "outputs": []
    },
    {
      "cell_type": "code",
      "source": [
        "%%capture\n",
        "!pip install langchain_community tiktoken langchain-openai langchainhub chromadb langchain langgraph tavily-python"
      ],
      "metadata": {
        "id": "2gUt0H5LH55X"
      },
      "id": "2gUt0H5LH55X",
      "execution_count": 3,
      "outputs": []
    },
    {
      "cell_type": "code",
      "source": [
        "%%capture\n",
        "!pip install -U :class:`~langchain-openai"
      ],
      "metadata": {
        "id": "VfAYXmYyvPQS"
      },
      "id": "VfAYXmYyvPQS",
      "execution_count": 4,
      "outputs": []
    },
    {
      "cell_type": "code",
      "source": [
        "import os\n",
        "os.environ[\"TAVILY_API_KEY\"] = \"YOUR-TAVILY-API-KEY-HERE\"\n",
        "os.environ[\"OPENAI_API_KEY\"] = \"YOUR-OPENAI-API-KEY-HERE\""
      ],
      "metadata": {
        "id": "kECjnoBfnbY7"
      },
      "id": "kECjnoBfnbY7",
      "execution_count": 5,
      "outputs": []
    },
    {
      "cell_type": "code",
      "source": [
        "from langchain.text_splitter import RecursiveCharacterTextSplitter\n",
        "from langchain_community.document_loaders import WebBaseLoader\n",
        "from langchain_community.vectorstores import Chroma\n",
        "from langchain_openai import OpenAIEmbeddings"
      ],
      "metadata": {
        "colab": {
          "base_uri": "https://localhost:8080/"
        },
        "id": "6bYy14Ovnbbi",
        "outputId": "51bff6da-842c-4952-8332-68bececc2e95"
      },
      "id": "6bYy14Ovnbbi",
      "execution_count": 6,
      "outputs": [
        {
          "output_type": "stream",
          "name": "stderr",
          "text": [
            "WARNING:langchain_community.utils.user_agent:USER_AGENT environment variable not set, consider setting it to identify your requests.\n"
          ]
        }
      ]
    },
    {
      "cell_type": "markdown",
      "source": [
        "### Preparing Knowledge Base By Scraping and Storing Documents"
      ],
      "metadata": {
        "id": "FSd2gn0fn1w8"
      },
      "id": "FSd2gn0fn1w8"
    },
    {
      "cell_type": "markdown",
      "source": [
        "Let's load documents from URLs, split them into smaller chunks, embed them using OpenAIEmbeddings, and store them in a Chroma vector database for efficient retrieval."
      ],
      "metadata": {
        "id": "fO_EzCL8s8AV"
      },
      "id": "fO_EzCL8s8AV"
    },
    {
      "cell_type": "code",
      "source": [
        "# Loading documents\n",
        "\n",
        "urls = [\n",
        "    \"https://www.kingarthurbaking.com/recipes/naturally-leavened-sourdough-bread-recipe\",\n",
        "    \"https://www.kingarthurbaking.com/recipes/pain-de-campagne-country-bread-recipe\",\n",
        "    \"https://www.kingarthurbaking.com/recipes/sourdough-pumpernickel-bread-recipe\",\n",
        "]\n",
        "docs = [WebBaseLoader(url).load() for url in urls]\n",
        "docs_list = [item for sublist in docs for item in sublist]\n",
        "text_splitter = RecursiveCharacterTextSplitter.from_tiktoken_encoder(\n",
        "    chunk_size=250, chunk_overlap=0\n",
        ")\n",
        "doc_splits = text_splitter.split_documents(docs_list)\n",
        "\n",
        "# Remove duplicate document chunks before storing\n",
        "unique_doc_splits = []\n",
        "seen_sources = set()\n",
        "\n",
        "for doc in doc_splits:\n",
        "    source = doc.metadata.get(\"source\", \"N/A\")\n",
        "    if source not in seen_sources:\n",
        "        seen_sources.add(source)\n",
        "        unique_doc_splits.append(doc)\n",
        "\n",
        "print(f\"Storing {len(unique_doc_splits)} unique documents in VectorDB\")\n",
        "\n",
        "# Add to vectorDB\n",
        "vectorstore = Chroma.from_documents(\n",
        "    documents=doc_splits,\n",
        "    collection_name=\"rag-chroma\",\n",
        "    embedding=OpenAIEmbeddings(),\n",
        ")\n",
        "retriever = vectorstore.as_retriever()"
      ],
      "metadata": {
        "colab": {
          "base_uri": "https://localhost:8080/"
        },
        "id": "1VdiYCfMnbd2",
        "outputId": "3b892cc1-7ce8-4a2d-eb1d-8d5ad966f22e"
      },
      "id": "1VdiYCfMnbd2",
      "execution_count": 7,
      "outputs": [
        {
          "output_type": "stream",
          "name": "stdout",
          "text": [
            "Storing 3 unique documents in VectorDB\n"
          ]
        }
      ]
    },
    {
      "cell_type": "code",
      "source": [
        "print(f\"Total documents before splitting: {len(docs_list)}\")\n",
        "print(f\"Total documents after splitting: {len(doc_splits)}\")"
      ],
      "metadata": {
        "colab": {
          "base_uri": "https://localhost:8080/"
        },
        "id": "2kJtnkT5MZpy",
        "outputId": "745079f9-7799-476e-ba29-a73defc74387"
      },
      "id": "2kJtnkT5MZpy",
      "execution_count": 8,
      "outputs": [
        {
          "output_type": "stream",
          "name": "stdout",
          "text": [
            "Total documents before splitting: 3\n",
            "Total documents after splitting: 71\n"
          ]
        }
      ]
    },
    {
      "cell_type": "code",
      "source": [
        "# Print the names (titles and sources) of the loaded documents\n",
        "print(\"\\n **Loaded Documents:**\")\n",
        "for i, doc in enumerate(docs_list, 1):\n",
        "    source = doc.metadata.get('source', 'Unknown Source')  # Get source URL\n",
        "    title = doc.metadata.get('title', 'Untitled Document')  # Get title (if available)\n",
        "    print(f\"{i}. **Title:** {title} \\n   **Source:** {source}\\n\")"
      ],
      "metadata": {
        "colab": {
          "base_uri": "https://localhost:8080/"
        },
        "id": "utcieq5qNm8q",
        "outputId": "5ccbba30-12ec-4082-d4b0-6963bc011586"
      },
      "id": "utcieq5qNm8q",
      "execution_count": 9,
      "outputs": [
        {
          "output_type": "stream",
          "name": "stdout",
          "text": [
            "\n",
            " **Loaded Documents:**\n",
            "1. **Title:** Naturally Leavened Sourdough Bread Recipe | King Arthur Baking \n",
            "   **Source:** https://www.kingarthurbaking.com/recipes/naturally-leavened-sourdough-bread-recipe\n",
            "\n",
            "2. **Title:** Pain de Campagne (Country Bread) Recipe | King Arthur Baking \n",
            "   **Source:** https://www.kingarthurbaking.com/recipes/pain-de-campagne-country-bread-recipe\n",
            "\n",
            "3. **Title:** Sourdough Pumpernickel Bread Recipe | King Arthur Baking \n",
            "   **Source:** https://www.kingarthurbaking.com/recipes/sourdough-pumpernickel-bread-recipe\n",
            "\n"
          ]
        }
      ]
    },
    {
      "cell_type": "code",
      "source": [
        "print(f\"Total documents stored in vectorDB: {vectorstore._collection.count()}\")"
      ],
      "metadata": {
        "colab": {
          "base_uri": "https://localhost:8080/"
        },
        "id": "K3K1HA54OPRZ",
        "outputId": "e4d8b692-ef7b-4b57-d981-8c2e8806a8c5"
      },
      "id": "K3K1HA54OPRZ",
      "execution_count": 10,
      "outputs": [
        {
          "output_type": "stream",
          "name": "stdout",
          "text": [
            "Total documents stored in vectorDB: 71\n"
          ]
        }
      ]
    },
    {
      "cell_type": "markdown",
      "source": [
        "### Set Up Basic RAG"
      ],
      "metadata": {
        "id": "fzudrpQ443y2"
      },
      "id": "fzudrpQ443y2"
    },
    {
      "cell_type": "code",
      "source": [
        "# Set up a basic RAG chain that retrieves relevant documents, uses GPT-4o mini to generate answers based on them.\n",
        "\n",
        "from langchain import hub\n",
        "from langchain_core.output_parsers import StrOutputParser\n",
        "from langchain_openai import ChatOpenAI\n",
        "\n",
        "rag_prompt = hub.pull(\"rlm/rag-prompt\")\n",
        "rag_llm = ChatOpenAI(model_name=\"gpt-4o-mini\", temperature=0)\n",
        "\n",
        "# Function to format documents properly\n",
        "def format_docs(docs):\n",
        "    cleaned_docs = [\" \".join(x.split()) for x in docs if x.strip()]  # Remove extra spaces and empty lines\n",
        "    return \"\\n\\n\".join(cleaned_docs)  # Join with spacing for readability\n",
        "\n",
        "# Define the basic RAG chain\n",
        "rag_chain = rag_prompt | rag_llm | StrOutputParser()\n",
        "print(rag_prompt.messages[0].prompt.template)"
      ],
      "metadata": {
        "colab": {
          "base_uri": "https://localhost:8080/"
        },
        "id": "4T2TFG-Mnbgo",
        "outputId": "6f056a35-af04-4fbf-88b3-3afb64348df7"
      },
      "id": "4T2TFG-Mnbgo",
      "execution_count": 11,
      "outputs": [
        {
          "output_type": "stream",
          "name": "stderr",
          "text": [
            "/usr/local/lib/python3.11/dist-packages/langsmith/client.py:253: LangSmithMissingAPIKeyWarning: API key must be provided when using hosted LangSmith API\n",
            "  warnings.warn(\n"
          ]
        },
        {
          "output_type": "stream",
          "name": "stdout",
          "text": [
            "You are an assistant for question-answering tasks. Use the following pieces of retrieved context to answer the question. If you don't know the answer, just say that you don't know. Use three sentences maximum and keep the answer concise.\n",
            "Question: {question} \n",
            "Context: {context} \n",
            "Answer:\n"
          ]
        }
      ]
    },
    {
      "cell_type": "code",
      "source": [
        "# Check type of documents:\n",
        "print(\"Type of docs:\", type(docs))\n",
        "print(\"Type of first element:\", type(docs[0]))"
      ],
      "metadata": {
        "colab": {
          "base_uri": "https://localhost:8080/"
        },
        "id": "79b0_XmC07Sf",
        "outputId": "69bca742-98ee-4bc5-eb1c-ba639efd3c8e"
      },
      "id": "79b0_XmC07Sf",
      "execution_count": 12,
      "outputs": [
        {
          "output_type": "stream",
          "name": "stdout",
          "text": [
            "Type of docs: <class 'list'>\n",
            "Type of first element: <class 'list'>\n"
          ]
        }
      ]
    },
    {
      "cell_type": "code",
      "source": [
        "# Flatten the list (if nested lists exist)\n",
        "flat_docs = [item for sublist in docs for item in sublist]\n"
      ],
      "metadata": {
        "id": "s-IyM8ZKwoEd"
      },
      "id": "s-IyM8ZKwoEd",
      "execution_count": 13,
      "outputs": []
    },
    {
      "cell_type": "code",
      "source": [
        "# Function to format documents\n",
        "def format_docs(docs):\n",
        "    cleaned_docs = [\" \".join(doc.page_content.split()) for doc in docs if hasattr(doc, \"page_content\") and doc.page_content.strip()]\n",
        "    return \"\\n\\n\".join(cleaned_docs)"
      ],
      "metadata": {
        "id": "jgDQfHDB0ekw"
      },
      "id": "jgDQfHDB0ekw",
      "execution_count": 14,
      "outputs": []
    },
    {
      "cell_type": "code",
      "source": [
        "import textwrap\n",
        "\n",
        "# Generating Answer\n",
        "question = \"What is sourdough method?\"\n",
        "generation = rag_chain.invoke({\"context\": format_docs(flat_docs), \"question\": question})\n",
        "\n",
        "# Print question\n",
        "print(\"\\nQuestion: %s\" % question)\n",
        "print(\"-\" * 50)\n",
        "\n",
        "# Set a limit for the number of documents (helpful in case of too many documents)\n",
        "MAX_DOCS = 3  # Change this number as needed\n",
        "CHARS_PER_DOC = 300  # Maximum characters to display per document\n",
        "\n",
        "# Limit the documents list\n",
        "limited_docs = flat_docs[:MAX_DOCS]\n",
        "\n",
        "# Print retrieved documents in a readable format with truncation\n",
        "print(\"\\nDocuments (showing small snippets from %d docs):\\n\" % MAX_DOCS)\n",
        "wrapped_docs = \"\\n\\n\".join([\n",
        "    textwrap.fill(f\"- {doc.page_content[:CHARS_PER_DOC]}...\", width=80)  # Truncate each document\n",
        "    for doc in limited_docs\n",
        "])\n",
        "print(wrapped_docs)\n",
        "print(\"-\" * 50)\n",
        "\n",
        "# Print formatted final answer\n",
        "wrapped_answer = textwrap.fill(generation, width=80)  # Wrap text for readability\n",
        "print(\"\\nFinal Answer:\\n\" + wrapped_answer)"
      ],
      "metadata": {
        "colab": {
          "base_uri": "https://localhost:8080/"
        },
        "id": "Hqs6SQ-rnblU",
        "outputId": "659b6ce7-05a9-4cc6-81d0-a0c1a0352b49"
      },
      "id": "Hqs6SQ-rnblU",
      "execution_count": 16,
      "outputs": [
        {
          "output_type": "stream",
          "name": "stdout",
          "text": [
            "\n",
            "Question: What is sourdough method?\n",
            "--------------------------------------------------\n",
            "\n",
            "Documents (showing small snippets from 3 docs):\n",
            "\n",
            "-                                          Naturally Leavened Sourdough Bread\n",
            "Recipe | King Arthur Baking                Skip to main content\n",
            "Free shipping on appliances     Visit Us Baker's Rewards                   Shop\n",
            "Main Menu   Shop     Flours    Shop   Flours    Signature   Glu...\n",
            "\n",
            "-                                          Pain de Campagne (Country Bread)\n",
            "Recipe | King Arthur Baking                Skip to main content\n",
            "Free shipping on appliances     Visit Us Baker's Rewards                   Shop\n",
            "Main Menu   Shop     Flours    Shop   Flours    Signature   Glute...\n",
            "\n",
            "-                                          Sourdough Pumpernickel Bread Recipe |\n",
            "King Arthur Baking                Skip to main content               Free\n",
            "shipping on appliances     Visit Us Baker's Rewards                   Shop\n",
            "Main Menu   Shop     Flours    Shop   Flours    Signature   Gluten-Fr...\n",
            "--------------------------------------------------\n",
            "\n",
            "Final Answer:\n",
            "The sourdough method involves using a naturally fermented starter made from\n",
            "flour and water, which contains wild yeast and bacteria, to leaven the bread\n",
            "instead of commercial yeast. This method relies on long fermentation times to\n",
            "develop flavor and texture, resulting in a distinctive tangy taste and chewy\n",
            "crust. It typically includes steps like mixing, resting, folding, and baking,\n",
            "often requiring patience and practice to master.\n"
          ]
        }
      ]
    },
    {
      "cell_type": "markdown",
      "source": [
        "### Filtering the Best Content for Generation with Retrieval Evaluator\n",
        "\n",
        "To improve the accuracy of generated content, let's set up a **retrieval evaluator** that checks the relevance of each retrieved document. Configured with a prompt and a language model, this tool ensures only the most useful information is used, filtering out irrelevant content **before** generating a response."
      ],
      "metadata": {
        "id": "kUnWAchB5YPE"
      },
      "id": "kUnWAchB5YPE"
    },
    {
      "cell_type": "code",
      "source": [
        "# Retrieval Evaluator\n",
        "from langchain_core.prompts import ChatPromptTemplate\n",
        "#from langchain_core.pydantic_v1 import BaseModel\n",
        "from pydantic.v1 import BaseModel\n",
        "from langchain_openai import ChatOpenAI\n",
        "from pydantic import Field\n",
        "\n",
        "# Ensure you're using Pydantic V2 BaseModel correctly\n",
        "try:\n",
        "    from pydantic import BaseModel  # Try importing Pydantic V2\n",
        "except ImportError:\n",
        "    from langchain_core.pydantic_v1 import BaseModel  # Fallback to V1 if needed\n",
        "\n",
        "# Data model\n",
        "class RetrievalEvaluator(BaseModel):\n",
        "    \"\"\"Classify retrieved documents based on relevance to the user's question.\"\"\"\n",
        "    binary_score: str = Field(\n",
        "        description=\"Documents are relevant to the question, 'yes' or 'no'\"\n",
        "    )\n",
        "\n",
        "# LLM with function call\n",
        "retrieval_evaluator_llm = ChatOpenAI(model=\"gpt-4o-mini\", temperature=0)\n",
        "structured_llm_evaluator = retrieval_evaluator_llm.with_structured_output(\n",
        "    RetrievalEvaluator, method=\"function_calling\"\n",
        ")\n",
        "\n",
        "# Prompt\n",
        "system = \"\"\"You are a document retrieval evaluator responsible for checking the relevancy of a retrieved document to the user's question. \\n\n",
        "If the document contains keyword(s) or semantic meaning related to the question, grade it as relevant. \\n\n",
        "Output a binary score 'yes' or 'no' to indicate whether the document is relevant to the question.\"\"\"\n",
        "\n",
        "retrieval_evaluator_prompt = ChatPromptTemplate.from_messages([\n",
        "    (\"system\", system),\n",
        "    (\"human\", \"Retrieved document: \\n\\n {document} \\n\\n User question: {question}\"),\n",
        "])\n",
        "\n",
        "retrieval_grader = retrieval_evaluator_prompt | structured_llm_evaluator"
      ],
      "metadata": {
        "id": "JwbXTsQvnbqe"
      },
      "id": "JwbXTsQvnbqe",
      "execution_count": 17,
      "outputs": []
    },
    {
      "cell_type": "markdown",
      "source": [
        "### Set Up Question Rewriter to Refine User's Query\n",
        "\n",
        "A question rewriter refines user queries to make them clearer and more specific, improving search accuracy and delivering more relevant results."
      ],
      "metadata": {
        "id": "pKkp7hPX9qsi"
      },
      "id": "pKkp7hPX9qsi"
    },
    {
      "cell_type": "code",
      "source": [
        "# Question Re-writer\n",
        "\n",
        "# LLM\n",
        "question_rewriter_llm = ChatOpenAI(model=\"gpt-4o-mini\", temperature=0)\n",
        "\n",
        "# Prompt\n",
        "system = \"\"\"You are a question re-writer that converts an input question to a better version that is optimized \\\\n\n",
        "     for web search. Look at the input and try to reason about the underlying semantic intent / meaning.\"\"\"\n",
        "re_write_prompt = ChatPromptTemplate.from_messages(\n",
        "    [\n",
        "        (\"system\", system),\n",
        "        (\n",
        "            \"human\",\n",
        "            \"Here is the initial question: \\\\n\\\\n {question} \\\\n Formulate an improved question.\",\n",
        "        ),\n",
        "    ]\n",
        ")\n",
        "question_rewriter = re_write_prompt | question_rewriter_llm | StrOutputParser()"
      ],
      "metadata": {
        "id": "kMVRU6FFnbtE"
      },
      "id": "kMVRU6FFnbtE",
      "execution_count": 18,
      "outputs": []
    },
    {
      "cell_type": "markdown",
      "source": [
        "### Expanding Knowledge with Web Search in CRAG\n",
        "When the knowledge base lacks sufficient information, CRAG leverages the Tavily API for web searches, broadening data sources to enhance retrieval of required information."
      ],
      "metadata": {
        "id": "oST2qrBD-2JU"
      },
      "id": "oST2qrBD-2JU"
    },
    {
      "cell_type": "code",
      "source": [
        "from langchain_community.tools.tavily_search import TavilySearchResults\n",
        "web_search_tool = TavilySearchResults(k=3)"
      ],
      "metadata": {
        "id": "W9KSLFl2nbyN"
      },
      "id": "W9KSLFl2nbyN",
      "execution_count": 19,
      "outputs": []
    },
    {
      "cell_type": "markdown",
      "source": [
        "### Building a CRAG Workflow with LangGraph\n",
        "\n",
        "Setting up a CRAG workflow with LangGraph involves three key steps:\n",
        "\n",
        "*   defining the graph state\n",
        "*   creating function nodes\n",
        "*   connecting function nodes to form a structured retrieval and generation pipeline.\n",
        "\n"
      ],
      "metadata": {
        "id": "Y_Nh_egI_hxW"
      },
      "id": "Y_Nh_egI_hxW"
    },
    {
      "cell_type": "code",
      "source": [
        "# Define the graph state\n",
        "\n",
        "from typing import List\n",
        "from typing_extensions import TypedDict\n",
        "class GraphState(TypedDict):\n",
        "    \"\"\"\n",
        "    Represents the state of our graph.\n",
        "    Attributes:\n",
        "        question: question\n",
        "        generation: LLM generation\n",
        "        web_search: whether to add search\n",
        "        documents: list of documents\n",
        "    \"\"\"\n",
        "    question: str\n",
        "    generation: str\n",
        "    web_search: str\n",
        "    documents: List[str]"
      ],
      "metadata": {
        "id": "qLLrI2cPnb0y"
      },
      "id": "qLLrI2cPnb0y",
      "execution_count": 20,
      "outputs": []
    },
    {
      "cell_type": "code",
      "source": [
        "# Define function nodes\n",
        "from langchain.schema import Document\n",
        "\n",
        "def retrieve(state):\n",
        "    \"\"\"\n",
        "    Retrieve documents\n",
        "    Args:\n",
        "        state (dict): The current graph state\n",
        "    Returns:\n",
        "        state (dict): New key added to state, documents, that contains retrieved documents\n",
        "    \"\"\"\n",
        "    print(\"=======RETRIEVE=======\")\n",
        "    question = state[\"question\"]\n",
        "\n",
        "    # Retrieval\n",
        "    documents = retriever.invoke(question)\n",
        "\n",
        "    # Remove duplicates based on the source URL\n",
        "    unique_documents = []\n",
        "    seen_sources = set()\n",
        "\n",
        "    for doc in documents:\n",
        "        source = doc.metadata.get('source', 'N/A')\n",
        "        if source not in seen_sources:\n",
        "            seen_sources.add(source)\n",
        "            unique_documents.append(doc)\n",
        "\n",
        "    # Limit to 3 unique documents\n",
        "    #unique_documents = unique_documents[:3]\n",
        "\n",
        "    print(f\"Total retrieved documents: {len(unique_documents)}\")\n",
        "    for i, doc in enumerate(unique_documents, 1):\n",
        "        print(f\"{i}. Source: {doc.metadata.get('source', 'N/A')}\")\n",
        "\n",
        "    return {\"documents\": unique_documents, \"question\": question}"
      ],
      "metadata": {
        "id": "PUKrEyu0nb3o"
      },
      "id": "PUKrEyu0nb3o",
      "execution_count": 33,
      "outputs": []
    },
    {
      "cell_type": "code",
      "source": [
        "# Generate a response\n",
        "def generate(state):\n",
        "    \"\"\"\n",
        "    Generate answer\n",
        "    Args:\n",
        "        state (dict): The current graph state\n",
        "    Returns:\n",
        "        state (dict): New key added to state, generation, that contains LLM generation\n",
        "    \"\"\"\n",
        "    print(\"=======GENERATE=======\")\n",
        "    question = state[\"question\"]\n",
        "    documents = state[\"documents\"]\n",
        "    # RAG generation\n",
        "    generation = rag_chain.invoke({\"context\": documents, \"question\": question})\n",
        "    return {\"documents\": documents, \"question\": question, \"generation\": generation}"
      ],
      "metadata": {
        "id": "QGBxy_Spnb5u"
      },
      "id": "QGBxy_Spnb5u",
      "execution_count": 34,
      "outputs": []
    },
    {
      "cell_type": "code",
      "source": [
        "# The evaluate_document function is checking if a retrieved document is relevant to user's question (rating-based evaluation)\n",
        "\n",
        "def evaluate_documents(state):\n",
        "    \"\"\"\n",
        "    Determines whether the retrieved documents are relevant to the question.\n",
        "    Args:\n",
        "        state (dict): The current graph state\n",
        "    Returns:\n",
        "        state (dict): Updates documents key with only filtered relevant documents\n",
        "    \"\"\"\n",
        "    print(\"=======CHECK DOCUMENT RELEVANCE TO QUESTION=======\")\n",
        "    question = state[\"question\"]\n",
        "    documents = state[\"documents\"]\n",
        "    # Score each doc\n",
        "    filtered_docs = []\n",
        "    web_search = \"No\"\n",
        "    for d in documents:\n",
        "        score = retrieval_grader.invoke(\n",
        "            {\"question\": question, \"document\": d.page_content}\n",
        "        )\n",
        "        grade = score.binary_score\n",
        "        if grade == \"yes\":\n",
        "            print(\"---GRADE: DOCUMENT RELEVANT---\")\n",
        "            filtered_docs.append(d)\n",
        "        else:\n",
        "            print(\"---GRADE: DOCUMENT NOT RELEVANT---\")\n",
        "            continue\n",
        "    if len(filtered_docs) / len(documents) <= 0.7:\n",
        "        web_search = \"Yes\"\n",
        "    return {\"documents\": filtered_docs, \"question\": question, \"web_search\": web_search}"
      ],
      "metadata": {
        "id": "tSoRma4Rnb8k"
      },
      "id": "tSoRma4Rnb8k",
      "execution_count": 35,
      "outputs": []
    },
    {
      "cell_type": "code",
      "source": [
        "# The transform_query function improves user's query (by using question rewriter)\n",
        "def transform_query(state):\n",
        "    \"\"\"\n",
        "    Transform the query to produce a better question.\n",
        "    Args:\n",
        "        state (dict): The current graph state\n",
        "    Returns:\n",
        "        state (dict): Updates question key with a re-phrased question\n",
        "    \"\"\"\n",
        "    print(\"=======TRANSFORM QUERY=======\")\n",
        "    question = state[\"question\"]\n",
        "    documents = state[\"documents\"]\n",
        "    # Re-write question\n",
        "    better_question = question_rewriter.invoke({\"question\": question})\n",
        "    return {\"documents\": documents, \"question\": better_question}"
      ],
      "metadata": {
        "id": "p0YqxTn-nb-7"
      },
      "id": "p0YqxTn-nb-7",
      "execution_count": 36,
      "outputs": []
    },
    {
      "cell_type": "code",
      "source": [
        "# The web_search function is looking for additional information in the internet\n",
        "\n",
        "def web_search(state):\n",
        "    \"\"\"\n",
        "    Web search based on the re-phrased question.\n",
        "    Args:\n",
        "        state (dict): The current graph state\n",
        "    Returns:\n",
        "        state (dict): Updates documents key with appended web results\n",
        "    \"\"\"\n",
        "    print(\"=======WEB SEARCH=======\")\n",
        "    question = state[\"question\"]\n",
        "    documents = state[\"documents\"]\n",
        "    # Web search\n",
        "    docs = web_search_tool.invoke({\"query\": question})\n",
        "    web_results = \"\\\\n\".join([d[\"content\"] for d in docs])\n",
        "    web_results = Document(page_content=web_results)\n",
        "    documents.append(web_results)\n",
        "    return {\"documents\": documents, \"question\": question}"
      ],
      "metadata": {
        "id": "EpDahrkgncDb"
      },
      "id": "EpDahrkgncDb",
      "execution_count": 37,
      "outputs": []
    },
    {
      "cell_type": "code",
      "source": [
        "# The decide_to_generate function makes decision: to generate a response based on current documents or refine the user's query and search again (based on the relevance of documents)\n",
        "\n",
        "def decide_to_generate(state):\n",
        "    \"\"\"\n",
        "    Determines whether to generate an answer, or re-generate a question.\n",
        "    Args:\n",
        "        state (dict): The current graph state\n",
        "    Returns:\n",
        "        str: Binary decision for next node to call\n",
        "    \"\"\"\n",
        "    print(\"=======ASSESS GRADED DOCUMENTS=======\")\n",
        "    state[\"question\"]\n",
        "    web_search = state[\"web_search\"]\n",
        "    state[\"documents\"]\n",
        "    if web_search == \"Yes\":\n",
        "        # All documents have been filtered check_relevance\n",
        "        # We will re-generate a new query\n",
        "        print(\n",
        "            \"=======DECISION: ALL DOCUMENTS ARE NOT RELEVANT TO QUESTION, TRANSFORM QUERY=======\"\n",
        "        )\n",
        "        return \"transform_query\"\n",
        "    else:\n",
        "        # We have relevant documents, so generate answer\n",
        "        print(\"=======DECISION: GENERATE=======\")\n",
        "        return \"generate\""
      ],
      "metadata": {
        "id": "Kpf83oXNCOT_"
      },
      "id": "Kpf83oXNCOT_",
      "execution_count": 38,
      "outputs": []
    },
    {
      "cell_type": "code",
      "source": [
        "# Linking all function nodes together in the LangGraph workflow\n",
        "\n",
        "from langgraph.graph import END, StateGraph, START\n",
        "\n",
        "workflow = StateGraph(GraphState)\n",
        "\n",
        "# Define the nodes\n",
        "workflow.add_node(\"retrieve\", retrieve)  # retrieve\n",
        "workflow.add_node(\"grade_documents\", evaluate_documents)  # evaluate documents\n",
        "workflow.add_node(\"generate\", generate)  # generate\n",
        "workflow.add_node(\"transform_query\", transform_query)  # transform_query\n",
        "workflow.add_node(\"web_search_node\", web_search)  # web search\n",
        "\n",
        "# Build graph\n",
        "workflow.add_edge(START, \"retrieve\")\n",
        "workflow.add_edge(\"retrieve\", \"grade_documents\")\n",
        "workflow.add_conditional_edges(\n",
        "    \"grade_documents\",\n",
        "    decide_to_generate,\n",
        "    {\n",
        "        \"transform_query\": \"transform_query\",\n",
        "        \"generate\": \"generate\",\n",
        "    },\n",
        ")\n",
        "workflow.add_edge(\"transform_query\", \"web_search_node\")\n",
        "workflow.add_edge(\"web_search_node\", \"generate\")\n",
        "workflow.add_edge(\"generate\", END)\n",
        "# Compile\n",
        "app = workflow.compile()\n",
        "\n"
      ],
      "metadata": {
        "id": "b6FHqlEtCOWv"
      },
      "id": "b6FHqlEtCOWv",
      "execution_count": 39,
      "outputs": []
    },
    {
      "cell_type": "code",
      "source": [
        "from IPython.display import Image, display\n",
        "try:\n",
        "    display(Image(app.get_graph(xray=True).draw_mermaid_png()))\n",
        "except Exception:\n",
        "    # This requires some extra dependencies and is optional\n",
        "    pass"
      ],
      "metadata": {
        "colab": {
          "base_uri": "https://localhost:8080/",
          "height": 647
        },
        "id": "fpej_kLbCOZn",
        "outputId": "2ef10ace-67d3-418c-91a6-0327af3acd87"
      },
      "id": "fpej_kLbCOZn",
      "execution_count": 40,
      "outputs": [
        {
          "output_type": "display_data",
          "data": {
            "image/png": "[encoded data removed]",
            "text/plain": [
              "<IPython.core.display.Image object>"
            ]
          },
          "metadata": {}
        }
      ]
    },
    {
      "cell_type": "markdown",
      "source": [
        "### Testing CRAG workflow"
      ],
      "metadata": {
        "id": "6fFjfmUOFifG"
      },
      "id": "6fFjfmUOFifG"
    },
    {
      "cell_type": "code",
      "source": [
        "from pprint import pprint\n",
        "import textwrap\n",
        "\n",
        "# Run\n",
        "inputs = {\"question\": \"What's the bagel method?\"}\n",
        "# Print question\n",
        "print(\"\\nQuestion: %s\" % inputs)\n",
        "print(\"=\" * 50)\n",
        "\n",
        "for output in app.stream(inputs):\n",
        "    for key, value in output.items():\n",
        "        print(\"\\n\" + \"=\" * 50)\n",
        "        print(f\"**Node: '{key}'**\")\n",
        "        print(\"=\" * 50 + \"\\n\")\n",
        "\n",
        "        # Special formatting for document retrieval\n",
        "        if key == \"retrieve\" and \"documents\" in value:\n",
        "            print(\"**Retrieved Documents:**\\n\")\n",
        "            for i, doc in enumerate(value[\"documents\"], 1):\n",
        "                print(f\"**Document {i}:**\")\n",
        "                print(f\"Source: {doc.metadata.get('source', 'N/A')}\")\n",
        "                print(textwrap.fill(f\"Content: {doc.page_content[:300]}...\", width=80))\n",
        "                print(\"=\" * 50)\n",
        "\n",
        "        # Special formatting for document grading\n",
        "        elif key == \"grade_documents\":\n",
        "            print(\"**Document Relevance Check:**\\n\")\n",
        "            pprint(value, indent=2, width=80, depth=None)\n",
        "\n",
        "        # Special formatting for transformed query\n",
        "        elif key == \"transform_query\":\n",
        "            print(\"**Transformed Query:**\\n\")\n",
        "            pprint(value[\"question\"], indent=2, width=80)\n",
        "\n",
        "        # Special formatting for web search results\n",
        "        elif key == \"web_search_node\" and \"documents\" in value:\n",
        "            print(\"**Web Search Results:**\\n\")\n",
        "            for i, doc in enumerate(value[\"documents\"], 1):\n",
        "                print(f\"**Result {i}:**\")\n",
        "                print(f\"{textwrap.fill(doc.page_content[:300] + '...', width=80)}\")\n",
        "                print(\"=\" * 50)\n",
        "\n",
        "        # Final Answer Formatting\n",
        "        elif key == \"generate\":\n",
        "            print(\"\\n**Final Answer:**\\n\")\n",
        "            print(textwrap.fill(value[\"generation\"], width=80))\n",
        "\n",
        "        else:\n",
        "            pprint(value, indent=2, width=80, depth=None)  # Default formatting"
      ],
      "metadata": {
        "colab": {
          "base_uri": "https://localhost:8080/"
        },
        "id": "v7kYpP5ZfHJf",
        "outputId": "c6f841fc-a7c6-4a2a-cf6d-1a98b5766905"
      },
      "id": "v7kYpP5ZfHJf",
      "execution_count": 47,
      "outputs": [
        {
          "output_type": "stream",
          "name": "stdout",
          "text": [
            "\n",
            "Question: {'question': \"What's the bagel method?\"}\n",
            "==================================================\n",
            "=======RETRIEVE=======\n",
            "Total retrieved documents: 3\n",
            "1. Source: https://www.kingarthurbaking.com/recipes/pain-de-campagne-country-bread-recipe\n",
            "2. Source: https://www.kingarthurbaking.com/recipes/sourdough-pumpernickel-bread-recipe\n",
            "3. Source: https://www.kingarthurbaking.com/recipes/naturally-leavened-sourdough-bread-recipe\n",
            "\n",
            "==================================================\n",
            "**Node: 'retrieve'**\n",
            "==================================================\n",
            "\n",
            "**Retrieved Documents:**\n",
            "\n",
            "**Document 1:**\n",
            "Source: https://www.kingarthurbaking.com/recipes/pain-de-campagne-country-bread-recipe\n",
            "Content: Prevent your screen from going dark as you follow along.     Combine\n",
            "all the ingredients in a large bowl or extra large (6-quart) dough rising\n",
            "bucket. It's fine to use sourdough starter straight from the refrigerator if\n",
            "that's where you keep it, though it's best if you've fed it at least once in\n",
            "the...\n",
            "==================================================\n",
            "**Document 2:**\n",
            "Source: https://www.kingarthurbaking.com/recipes/sourdough-pumpernickel-bread-recipe\n",
            "Content: best way to melt chocolateBaking GuidesBake for GoodKing Arthur Baking\n",
            "SchoolBaking SchoolBaking SchoolCloseClassesBagels, Buns & RollsBiscuits &\n",
            "SconesBreadBritish BakingCake & CupcakesCookies & BarsPizza & FlatbreadHoliday\n",
            "BakingKids & CampsPasta and NoodlesPastryPies & TartsProfessional LevelSour...\n",
            "==================================================\n",
            "**Document 3:**\n",
            "Source: https://www.kingarthurbaking.com/recipes/naturally-leavened-sourdough-bread-recipe\n",
            "Content: best way to melt chocolateBaking GuidesBake for GoodKing Arthur Baking\n",
            "SchoolBaking SchoolBaking SchoolCloseClassesBagels, Buns & RollsBiscuits &\n",
            "SconesBreadBritish BakingCake & CupcakesCookies & BarsPizza & FlatbreadHoliday\n",
            "BakingKids & CampsPasta and NoodlesPastryPies & TartsProfessional LevelSour...\n",
            "==================================================\n",
            "=======CHECK DOCUMENT RELEVANCE TO QUESTION=======\n",
            "---GRADE: DOCUMENT NOT RELEVANT---\n",
            "---GRADE: DOCUMENT NOT RELEVANT---\n",
            "---GRADE: DOCUMENT NOT RELEVANT---\n",
            "=======ASSESS GRADED DOCUMENTS=======\n",
            "=======DECISION: ALL DOCUMENTS ARE NOT RELEVANT TO QUESTION, TRANSFORM QUERY=======\n",
            "\n",
            "==================================================\n",
            "**Node: 'grade_documents'**\n",
            "==================================================\n",
            "\n",
            "**Document Relevance Check:**\n",
            "\n",
            "{'documents': [], 'question': \"What's the bagel method?\", 'web_search': 'Yes'}\n",
            "=======TRANSFORM QUERY=======\n",
            "\n",
            "==================================================\n",
            "**Node: 'transform_query'**\n",
            "==================================================\n",
            "\n",
            "**Transformed Query:**\n",
            "\n",
            "'What is the bagel method and how is it used?'\n",
            "=======WEB SEARCH=======\n",
            "\n",
            "==================================================\n",
            "**Node: 'web_search_node'**\n",
            "==================================================\n",
            "\n",
            "**Web Search Results:**\n",
            "\n",
            "**Result 1:**\n",
            "The method used here is done by simply poking the hole in the middle of taught\n",
            "rounds of bagel dough. Once that is done, the bagel rings are\\nA classic plain\n",
            "New York bagel is created using just five essential ingredients that come\n",
            "together to form the perfect dough, which is the foundation of a del...\n",
            "==================================================\n",
            "=======GENERATE=======\n",
            "\n",
            "==================================================\n",
            "**Node: 'generate'**\n",
            "==================================================\n",
            "\n",
            "\n",
            "**Final Answer:**\n",
            "\n",
            "The bagel method involves shaping bagel dough by poking a hole in the center of\n",
            "a round piece of dough, creating a ring. This technique is crucial for\n",
            "maintaining the bagel's shape during boiling and baking. Proper sealing and\n",
            "stretching of the holes are essential for achieving the desired texture and\n",
            "appearance.\n"
          ]
        }
      ]
    },
    {
      "cell_type": "code",
      "source": [
        "# One more test for CRAG\n",
        "\n",
        "# Run\n",
        "inputs = {\"question\": \"What is self-attention?\"}\n",
        "# Print question\n",
        "print(\"\\nQuestion: %s\" % inputs)\n",
        "print(\"=\" * 50)\n",
        "\n",
        "for output in app.stream(inputs):\n",
        "    for key, value in output.items():\n",
        "        print(\"\\n\" + \"=\" * 50)\n",
        "        print(f\"**Node: '{key}'**\")\n",
        "        print(\"=\" * 50 + \"\\n\")\n",
        "\n",
        "        # Special formatting for document retrieval\n",
        "        if key == \"retrieve\" and \"documents\" in value:\n",
        "            print(\"**Retrieved Documents:**\\n\")\n",
        "            for i, doc in enumerate(value[\"documents\"], 1):\n",
        "                print(f\"**Document {i}:**\")\n",
        "                print(f\"Source: {doc.metadata.get('source', 'N/A')}\")\n",
        "                print(textwrap.fill(f\"Content: {doc.page_content[:300]}...\", width=80))\n",
        "                print(\"=\" * 50)\n",
        "\n",
        "        # Special formatting for document grading\n",
        "        elif key == \"grade_documents\":\n",
        "            print(\"**Document Relevance Check:**\\n\")\n",
        "            pprint(value, indent=2, width=80, depth=None)\n",
        "\n",
        "        # Special formatting for transformed query\n",
        "        elif key == \"transform_query\":\n",
        "            print(\"**Transformed Query:**\\n\")\n",
        "            pprint(value[\"question\"], indent=2, width=80)\n",
        "\n",
        "        # Special formatting for web search results\n",
        "        elif key == \"web_search_node\" and \"documents\" in value:\n",
        "            print(\"**Web Search Results:**\\n\")\n",
        "            for i, doc in enumerate(value[\"documents\"], 1):\n",
        "                print(f\"**Result {i}:**\")\n",
        "                print(f\"{textwrap.fill(doc.page_content[:300] + '...', width=80)}\")\n",
        "                print(\"=\" * 50)\n",
        "\n",
        "        # Final Answer Formatting\n",
        "        elif key == \"generate\":\n",
        "            print(\"\\n**Final Answer:**\\n\")\n",
        "            print(textwrap.fill(value[\"generation\"], width=80))\n",
        "\n",
        "        else:\n",
        "            pprint(value, indent=2, width=80, depth=None)  # Default formatting\n"
      ],
      "metadata": {
        "colab": {
          "base_uri": "https://localhost:8080/"
        },
        "id": "GaEOi3EYCOi-",
        "outputId": "cd9a1d65-1e94-46b0-80f8-dedd99e4cc3b"
      },
      "id": "GaEOi3EYCOi-",
      "execution_count": 44,
      "outputs": [
        {
          "output_type": "stream",
          "name": "stdout",
          "text": [
            "\n",
            "Question: {'question': 'What is self-attention?'}\n",
            "==================================================\n",
            "=======RETRIEVE=======\n",
            "Total retrieved documents: 3\n",
            "1. Source: https://www.kingarthurbaking.com/recipes/sourdough-pumpernickel-bread-recipe\n",
            "2. Source: https://www.kingarthurbaking.com/recipes/naturally-leavened-sourdough-bread-recipe\n",
            "3. Source: https://www.kingarthurbaking.com/recipes/pain-de-campagne-country-bread-recipe\n",
            "\n",
            "==================================================\n",
            "**Node: 'retrieve'**\n",
            "==================================================\n",
            "\n",
            "**Retrieved Documents:**\n",
            "\n",
            "**Document 1:**\n",
            "Source: https://www.kingarthurbaking.com/recipes/sourdough-pumpernickel-bread-recipe\n",
            "Content: Main Menu...\n",
            "==================================================\n",
            "**Document 2:**\n",
            "Source: https://www.kingarthurbaking.com/recipes/naturally-leavened-sourdough-bread-recipe\n",
            "Content: Main Menu...\n",
            "==================================================\n",
            "**Document 3:**\n",
            "Source: https://www.kingarthurbaking.com/recipes/pain-de-campagne-country-bread-recipe\n",
            "Content: Main Menu...\n",
            "==================================================\n",
            "=======CHECK DOCUMENT RELEVANCE TO QUESTION=======\n",
            "---GRADE: DOCUMENT NOT RELEVANT---\n",
            "---GRADE: DOCUMENT NOT RELEVANT---\n",
            "---GRADE: DOCUMENT NOT RELEVANT---\n",
            "=======ASSESS GRADED DOCUMENTS=======\n",
            "=======DECISION: ALL DOCUMENTS ARE NOT RELEVANT TO QUESTION, TRANSFORM QUERY=======\n",
            "\n",
            "==================================================\n",
            "**Node: 'grade_documents'**\n",
            "==================================================\n",
            "\n",
            "**Document Relevance Check:**\n",
            "\n",
            "{'documents': [], 'question': 'What is self-attention?', 'web_search': 'Yes'}\n",
            "=======TRANSFORM QUERY=======\n",
            "\n",
            "==================================================\n",
            "**Node: 'transform_query'**\n",
            "==================================================\n",
            "\n",
            "**Transformed Query:**\n",
            "\n",
            "('What is the concept of self-attention in machine learning and how does it '\n",
            " 'work?')\n",
            "=======WEB SEARCH=======\n",
            "\n",
            "==================================================\n",
            "**Node: 'web_search_node'**\n",
            "==================================================\n",
            "\n",
            "**Web Search Results:**\n",
            "\n",
            "**Result 1:**\n",
            "For example, when processing the sentence “The cat sat on the mat”, one\n",
            "attention head might focus on the relationship between “cat” and “sat”,\n",
            "capturing the information that the cat is the one doing the sitting, while\n",
            "another head might focus more on the relationship between “sat” and “mat”,\n",
            "captur...\n",
            "==================================================\n",
            "=======GENERATE=======\n",
            "\n",
            "==================================================\n",
            "**Node: 'generate'**\n",
            "==================================================\n",
            "\n",
            "\n",
            "**Final Answer:**\n",
            "\n",
            "Self-attention is a mechanism in machine learning, particularly in Transformer\n",
            "models, that allows the model to weigh the importance of different words in a\n",
            "sequence relative to each other. It works by calculating attention scores\n",
            "through dot products of query and key vectors, enabling the model to focus on\n",
            "relevant words when processing a specific word. This helps capture complex\n",
            "patterns and long-range dependencies in data, enhancing tasks like language\n",
            "understanding and image recognition.\n"
          ]
        }
      ]
    }
  ],
  "metadata": {
    "kernelspec": {
      "display_name": "Python 3",
      "name": "python3"
    },
    "language_info": {
      "codemirror_mode": {
        "name": "ipython",
        "version": 3
      },
      "file_extension": ".py",
      "mimetype": "text/x-python",
      "name": "python",
      "nbconvert_exporter": "python",
      "pygments_lexer": "ipython3",
      "version": "3.11.9"
    },
    "colab": {
      "provenance": [],
      "machine_shape": "hm"
    }
  },
  "nbformat": 4,
  "nbformat_minor": 5
}